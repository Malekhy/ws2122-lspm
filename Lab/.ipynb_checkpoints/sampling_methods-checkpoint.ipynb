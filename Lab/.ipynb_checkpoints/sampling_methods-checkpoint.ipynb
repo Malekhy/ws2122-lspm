{
 "cells": [
  {
   "cell_type": "code",
   "execution_count": null,
   "id": "5b0a4db3-540b-474b-9915-905df72d63e3",
   "metadata": {},
   "outputs": [],
   "source": [
    "import os\n",
    "import pandas as pd\n",
    "\n",
    "import pm4py\n",
    "\n",
    "## Log Util\n",
    "# Log conversion\n",
    "from pm4py.objects.conversion.log import converter as log_converter\n",
    "# Read Log (e.g., If you can not use the simplified interface because you do not have ipywidgets installed)\n",
    "from pm4py.objects.log.importer.xes import importer as xes_importer\n",
    "\n",
    "## Conformance Checking\n",
    "# Token-based replay (e.g., If you can not use the simplified interface because you do not have ipywidgets installed)\n",
    "from pm4py.algo.evaluation.replay_fitness import evaluator as replay_fitness_evaluator\n",
    "from pm4py.algo.conformance.tokenreplay import algorithm as token_replay\n",
    "# Standard Alignments (e.g., If you can not use the simplified interface because you do not have ipywidgets installed)\n",
    "from pm4py.algo.conformance.alignments import algorithm as alignments\n",
    "# Decomposed Alignments (e.g., If you can not use the simplified interface because you do not have ipywidgets installed)\n",
    "from pm4py.algo.conformance.alignments.decomposed import algorithm as decomp_alignments\n",
    "\n",
    "## Petri Nets\n",
    "from pm4py.objects.petri_net.obj import PetriNet, Marking\n",
    "from pm4py.objects.petri_net.utils import petri_utils\n",
    "\n"
   ]
  },
  {
   "cell_type": "code",
   "execution_count": null,
   "id": "ac36fed7-59ac-4dd9-9db5-8353ef274fa9",
   "metadata": {},
   "outputs": [],
   "source": []
  },
  {
   "cell_type": "code",
   "execution_count": 23,
   "id": "da3b525b-4bff-4ee4-8e58-c0ea21bb9c91",
   "metadata": {},
   "outputs": [],
   "source": [
    "from pm4py.algo.filtering.log.cases import case_filter\n",
    "from pm4py.algo.filtering.pandas.timestamp import timestamp_filter\n",
    "from pm4py.algo.filtering.log.start_activities import start_activities_filter\n",
    "from pm4py.algo.filtering.log.end_activities import end_activities_filter\n",
    "from pm4py.algo.filtering.log.variants import variants_filter\n",
    "\n"
   ]
  },
  {
   "cell_type": "code",
   "execution_count": 24,
   "id": "e0a025e1-45ac-494e-b0c7-3985d068cf23",
   "metadata": {},
   "outputs": [
    {
     "data": {
      "text/html": [
       "<div>\n",
       "<style scoped>\n",
       "    .dataframe tbody tr th:only-of-type {\n",
       "        vertical-align: middle;\n",
       "    }\n",
       "\n",
       "    .dataframe tbody tr th {\n",
       "        vertical-align: top;\n",
       "    }\n",
       "\n",
       "    .dataframe thead th {\n",
       "        text-align: right;\n",
       "    }\n",
       "</style>\n",
       "<table border=\"1\" class=\"dataframe\">\n",
       "  <thead>\n",
       "    <tr style=\"text-align: right;\">\n",
       "      <th></th>\n",
       "      <th>Case ID</th>\n",
       "      <th>Activity</th>\n",
       "      <th>org:resource</th>\n",
       "      <th>Complete Timestamp</th>\n",
       "      <th>seriousness</th>\n",
       "      <th>customer</th>\n",
       "      <th>product</th>\n",
       "      <th>seriousness_2</th>\n",
       "      <th>service_level</th>\n",
       "      <th>service_type</th>\n",
       "      <th>workgroup</th>\n",
       "    </tr>\n",
       "  </thead>\n",
       "  <tbody>\n",
       "    <tr>\n",
       "      <th>0</th>\n",
       "      <td>Case 1</td>\n",
       "      <td>Assign seriousness</td>\n",
       "      <td>Value 1</td>\n",
       "      <td>2012-10-09 14:50:17+00:00</td>\n",
       "      <td>Value 1</td>\n",
       "      <td>Value 1</td>\n",
       "      <td>Value 1</td>\n",
       "      <td>Value 1</td>\n",
       "      <td>Value 1</td>\n",
       "      <td>Value 1</td>\n",
       "      <td>Value 1</td>\n",
       "    </tr>\n",
       "    <tr>\n",
       "      <th>1</th>\n",
       "      <td>Case 1</td>\n",
       "      <td>Take in charge ticket</td>\n",
       "      <td>Value 1</td>\n",
       "      <td>2012-10-09 14:51:01+00:00</td>\n",
       "      <td>Value 1</td>\n",
       "      <td>Value 1</td>\n",
       "      <td>Value 1</td>\n",
       "      <td>Value 1</td>\n",
       "      <td>Value 1</td>\n",
       "      <td>Value 1</td>\n",
       "      <td>Value 1</td>\n",
       "    </tr>\n",
       "    <tr>\n",
       "      <th>2</th>\n",
       "      <td>Case 1</td>\n",
       "      <td>Take in charge ticket</td>\n",
       "      <td>Value 2</td>\n",
       "      <td>2012-10-12 15:02:56+00:00</td>\n",
       "      <td>Value 1</td>\n",
       "      <td>Value 1</td>\n",
       "      <td>Value 1</td>\n",
       "      <td>Value 1</td>\n",
       "      <td>Value 2</td>\n",
       "      <td>Value 1</td>\n",
       "      <td>Value 1</td>\n",
       "    </tr>\n",
       "    <tr>\n",
       "      <th>3</th>\n",
       "      <td>Case 1</td>\n",
       "      <td>Resolve ticket</td>\n",
       "      <td>Value 1</td>\n",
       "      <td>2012-10-25 11:54:26+00:00</td>\n",
       "      <td>Value 1</td>\n",
       "      <td>Value 1</td>\n",
       "      <td>Value 1</td>\n",
       "      <td>Value 1</td>\n",
       "      <td>Value 2</td>\n",
       "      <td>Value 1</td>\n",
       "      <td>Value 1</td>\n",
       "    </tr>\n",
       "    <tr>\n",
       "      <th>4</th>\n",
       "      <td>Case 1</td>\n",
       "      <td>Closed</td>\n",
       "      <td>Value 3</td>\n",
       "      <td>2012-11-09 12:54:39+00:00</td>\n",
       "      <td>Value 1</td>\n",
       "      <td>Value 1</td>\n",
       "      <td>Value 1</td>\n",
       "      <td>Value 1</td>\n",
       "      <td>Value 2</td>\n",
       "      <td>Value 1</td>\n",
       "      <td>Value 1</td>\n",
       "    </tr>\n",
       "    <tr>\n",
       "      <th>...</th>\n",
       "      <td>...</td>\n",
       "      <td>...</td>\n",
       "      <td>...</td>\n",
       "      <td>...</td>\n",
       "      <td>...</td>\n",
       "      <td>...</td>\n",
       "      <td>...</td>\n",
       "      <td>...</td>\n",
       "      <td>...</td>\n",
       "      <td>...</td>\n",
       "      <td>...</td>\n",
       "    </tr>\n",
       "    <tr>\n",
       "      <th>21337</th>\n",
       "      <td>Case 4579</td>\n",
       "      <td>Closed</td>\n",
       "      <td>Value 5</td>\n",
       "      <td>2010-09-02 10:11:00+00:00</td>\n",
       "      <td>Value 1</td>\n",
       "      <td>Value 71</td>\n",
       "      <td>Value 3</td>\n",
       "      <td>Value 1</td>\n",
       "      <td>Value 3</td>\n",
       "      <td>Value 1</td>\n",
       "      <td>Value 1</td>\n",
       "    </tr>\n",
       "    <tr>\n",
       "      <th>21338</th>\n",
       "      <td>Case 4580</td>\n",
       "      <td>Take in charge ticket</td>\n",
       "      <td>Value 6</td>\n",
       "      <td>2012-01-03 09:33:43+00:00</td>\n",
       "      <td>Value 1</td>\n",
       "      <td>Value 92</td>\n",
       "      <td>Value 3</td>\n",
       "      <td>Value 2</td>\n",
       "      <td>Value 2</td>\n",
       "      <td>Value 2</td>\n",
       "      <td>Value 1</td>\n",
       "    </tr>\n",
       "    <tr>\n",
       "      <th>21339</th>\n",
       "      <td>Case 4580</td>\n",
       "      <td>Wait</td>\n",
       "      <td>Value 6</td>\n",
       "      <td>2012-01-10 15:30:11+00:00</td>\n",
       "      <td>Value 1</td>\n",
       "      <td>Value 92</td>\n",
       "      <td>Value 3</td>\n",
       "      <td>Value 2</td>\n",
       "      <td>Value 2</td>\n",
       "      <td>Value 2</td>\n",
       "      <td>Value 1</td>\n",
       "    </tr>\n",
       "    <tr>\n",
       "      <th>21340</th>\n",
       "      <td>Case 4580</td>\n",
       "      <td>Resolve ticket</td>\n",
       "      <td>Value 6</td>\n",
       "      <td>2012-01-10 17:07:40+00:00</td>\n",
       "      <td>Value 1</td>\n",
       "      <td>Value 92</td>\n",
       "      <td>Value 3</td>\n",
       "      <td>Value 2</td>\n",
       "      <td>Value 2</td>\n",
       "      <td>Value 2</td>\n",
       "      <td>Value 1</td>\n",
       "    </tr>\n",
       "    <tr>\n",
       "      <th>21341</th>\n",
       "      <td>Case 4580</td>\n",
       "      <td>Closed</td>\n",
       "      <td>Value 5</td>\n",
       "      <td>2012-02-08 17:00:34+00:00</td>\n",
       "      <td>Value 1</td>\n",
       "      <td>Value 92</td>\n",
       "      <td>Value 3</td>\n",
       "      <td>Value 2</td>\n",
       "      <td>Value 2</td>\n",
       "      <td>Value 2</td>\n",
       "      <td>Value 1</td>\n",
       "    </tr>\n",
       "  </tbody>\n",
       "</table>\n",
       "<p>21342 rows × 11 columns</p>\n",
       "</div>"
      ],
      "text/plain": [
       "         Case ID               Activity org:resource  \\\n",
       "0         Case 1     Assign seriousness      Value 1   \n",
       "1         Case 1  Take in charge ticket      Value 1   \n",
       "2         Case 1  Take in charge ticket      Value 2   \n",
       "3         Case 1         Resolve ticket      Value 1   \n",
       "4         Case 1                 Closed      Value 3   \n",
       "...          ...                    ...          ...   \n",
       "21337  Case 4579                 Closed      Value 5   \n",
       "21338  Case 4580  Take in charge ticket      Value 6   \n",
       "21339  Case 4580                   Wait      Value 6   \n",
       "21340  Case 4580         Resolve ticket      Value 6   \n",
       "21341  Case 4580                 Closed      Value 5   \n",
       "\n",
       "             Complete Timestamp seriousness  customer  product seriousness_2  \\\n",
       "0     2012-10-09 14:50:17+00:00     Value 1   Value 1  Value 1       Value 1   \n",
       "1     2012-10-09 14:51:01+00:00     Value 1   Value 1  Value 1       Value 1   \n",
       "2     2012-10-12 15:02:56+00:00     Value 1   Value 1  Value 1       Value 1   \n",
       "3     2012-10-25 11:54:26+00:00     Value 1   Value 1  Value 1       Value 1   \n",
       "4     2012-11-09 12:54:39+00:00     Value 1   Value 1  Value 1       Value 1   \n",
       "...                         ...         ...       ...      ...           ...   \n",
       "21337 2010-09-02 10:11:00+00:00     Value 1  Value 71  Value 3       Value 1   \n",
       "21338 2012-01-03 09:33:43+00:00     Value 1  Value 92  Value 3       Value 2   \n",
       "21339 2012-01-10 15:30:11+00:00     Value 1  Value 92  Value 3       Value 2   \n",
       "21340 2012-01-10 17:07:40+00:00     Value 1  Value 92  Value 3       Value 2   \n",
       "21341 2012-02-08 17:00:34+00:00     Value 1  Value 92  Value 3       Value 2   \n",
       "\n",
       "      service_level service_type workgroup  \n",
       "0           Value 1      Value 1   Value 1  \n",
       "1           Value 1      Value 1   Value 1  \n",
       "2           Value 2      Value 1   Value 1  \n",
       "3           Value 2      Value 1   Value 1  \n",
       "4           Value 2      Value 1   Value 1  \n",
       "...             ...          ...       ...  \n",
       "21337       Value 3      Value 1   Value 1  \n",
       "21338       Value 2      Value 2   Value 1  \n",
       "21339       Value 2      Value 2   Value 1  \n",
       "21340       Value 2      Value 2   Value 1  \n",
       "21341       Value 2      Value 2   Value 1  \n",
       "\n",
       "[21342 rows x 11 columns]"
      ]
     },
     "execution_count": 24,
     "metadata": {},
     "output_type": "execute_result"
    }
   ],
   "source": [
    "from pm4py.objects.log.util import dataframe_utils\n",
    "from pm4py.objects.conversion.log import converter as log_converter\n",
    "from pm4py.util import constants\n",
    "\n",
    "log_csv = pd.read_csv('../eventlogs/ItalianHelpdeskFinal.csv', sep=',')\n",
    "log_csv = dataframe_utils.convert_timestamp_columns_in_df(log_csv)\n",
    "param_keys={constants.PARAMETER_CONSTANT_CASEID_KEY: 'Case ID', \n",
    "    constants.PARAMETER_CONSTANT_ACTIVITY_KEY: 'Activity', \n",
    "            constants.PARAMETER_CONSTANT_TIMESTAMP_KEY: \"Complete Timestamp\"\n",
    "           }\n",
    "log_csv"
   ]
  },
  {
   "cell_type": "code",
   "execution_count": 25,
   "id": "c1f37753-e747-42d5-af24-bb55f2a59cb1",
   "metadata": {},
   "outputs": [
    {
     "data": {
      "text/plain": [
       "[{'attributes': {'concept:name': 'Case 1'}, 'events': [{'Case ID': 'Case 1', 'Activity': 'Assign seriousness', 'org:resource': 'Value 1', 'Complete Timestamp': Timestamp('2012-10-09 14:50:17+0000', tz='UTC'), 'seriousness': 'Value 1', 'customer': 'Value 1', 'product': 'Value 1', 'seriousness_2': 'Value 1', 'service_level': 'Value 1', 'service_type': 'Value 1', 'workgroup': 'Value 1'}, '..', {'Case ID': 'Case 1', 'Activity': 'Closed', 'org:resource': 'Value 3', 'Complete Timestamp': Timestamp('2012-11-09 12:54:39+0000', tz='UTC'), 'seriousness': 'Value 1', 'customer': 'Value 1', 'product': 'Value 1', 'seriousness_2': 'Value 1', 'service_level': 'Value 2', 'service_type': 'Value 1', 'workgroup': 'Value 1'}]}, '....', {'attributes': {'concept:name': 'Case 4580'}, 'events': [{'Case ID': 'Case 4580', 'Activity': 'Take in charge ticket', 'org:resource': 'Value 6', 'Complete Timestamp': Timestamp('2012-01-03 09:33:43+0000', tz='UTC'), 'seriousness': 'Value 1', 'customer': 'Value 92', 'product': 'Value 3', 'seriousness_2': 'Value 2', 'service_level': 'Value 2', 'service_type': 'Value 2', 'workgroup': 'Value 1'}, '..', {'Case ID': 'Case 4580', 'Activity': 'Closed', 'org:resource': 'Value 5', 'Complete Timestamp': Timestamp('2012-02-08 17:00:34+0000', tz='UTC'), 'seriousness': 'Value 1', 'customer': 'Value 92', 'product': 'Value 3', 'seriousness_2': 'Value 2', 'service_level': 'Value 2', 'service_type': 'Value 2', 'workgroup': 'Value 1'}]}]"
      ]
     },
     "execution_count": 25,
     "metadata": {},
     "output_type": "execute_result"
    }
   ],
   "source": [
    "event_log = log_converter.apply(log_csv,parameters=param_keys)\n",
    "event_log"
   ]
  },
  {
   "cell_type": "code",
   "execution_count": 26,
   "id": "267fe8e8-01ce-453e-abd0-1436c62bf9e3",
   "metadata": {},
   "outputs": [],
   "source": [
    "from pm4py.algo.discovery.inductive import algorithm as inductive_miner\n",
    "param_keys={constants.PARAMETER_CONSTANT_CASEID_KEY: 'Case ID', \n",
    "    constants.PARAMETER_CONSTANT_ACTIVITY_KEY: 'Activity',\n",
    "           constants.PARAMETER_CONSTANT_TIMESTAMP_KEY: \"Complete Timestamp\"}\n",
    "tree = inductive_miner.apply_tree(event_log,parameters=param_keys,variant=inductive_miner.Variants.IM)"
   ]
  },
  {
   "cell_type": "code",
   "execution_count": 27,
   "id": "2f6458a8-68c0-4db5-948e-5a923cf78caa",
   "metadata": {},
   "outputs": [],
   "source": [
    "#pm4py.view_process_tree(tree)"
   ]
  },
  {
   "cell_type": "code",
   "execution_count": 28,
   "id": "c22ab03b-5d12-4984-8665-7f949fd2361c",
   "metadata": {},
   "outputs": [],
   "source": [
    "from pm4py.algo.discovery.dfg import algorithm as dfg_discovery\n",
    "param_keys={constants.PARAMETER_CONSTANT_CASEID_KEY: 'Case ID', \n",
    "    constants.PARAMETER_CONSTANT_ACTIVITY_KEY: 'Activity',\n",
    "           constants.PARAMETER_CONSTANT_TIMESTAMP_KEY:'Complete Timestamp'}\n",
    "dfg = dfg_discovery.apply(event_log,parameters=param_keys)\n",
    "from pm4py.statistics.start_activities.log import get as start_activities_module\n",
    "from pm4py.statistics.end_activities.log import get as end_activities_module\n",
    "start_activities = start_activities_module.get_start_activities(event_log,param_keys)\n",
    "end_activities = end_activities_module.get_end_activities(event_log,param_keys)"
   ]
  },
  {
   "cell_type": "code",
   "execution_count": 29,
   "id": "9514573c-f74f-403c-b190-5fe636024957",
   "metadata": {},
   "outputs": [],
   "source": [
    "from pm4py.visualization.dfg import visualizer as dfg_visualization\n",
    "#pm4py.view_dfg(dfg,start_activities,end_activities)"
   ]
  },
  {
   "cell_type": "code",
   "execution_count": 30,
   "id": "eaea15c7-7808-4522-89a2-4dbf3f272bc3",
   "metadata": {},
   "outputs": [],
   "source": [
    "def filterLog(activity, trace):\n",
    "    for event in trace:\n",
    "        if event[\"Activity\"] == activity:\n",
    "            return False \n",
    "    return True\n",
    "\n",
    "filtered_log = [trace for trace in event_log if filterLog(\"Special Priority Appointment granted\",trace)]\n",
    "\n"
   ]
  },
  {
   "cell_type": "code",
   "execution_count": 31,
   "id": "ce8050f0-d5cf-4cb9-8b59-1946b7fd0097",
   "metadata": {},
   "outputs": [],
   "source": [
    "tree = inductive_miner.apply_tree(filtered_log,parameters=param_keys,variant=inductive_miner.Variants.IM)\n",
    "\n"
   ]
  },
  {
   "cell_type": "code",
   "execution_count": 32,
   "id": "b6442ed3-559f-45c5-966a-5d5ccf8b607f",
   "metadata": {},
   "outputs": [],
   "source": [
    "#pm4py.view_process_tree(tree)"
   ]
  },
  {
   "cell_type": "code",
   "execution_count": 33,
   "id": "a52e53d8-85ce-4e01-b062-a50bcf756dba",
   "metadata": {},
   "outputs": [],
   "source": [
    "def find2Events(activity, trace):\n",
    "    count = 0\n",
    "    for event in trace:\n",
    "        if event[\"Activity\"] == activity:\n",
    "            count = count + 1\n",
    "    if count > 1:\n",
    "        return True\n",
    "    else:\n",
    "        return False\n",
    "        "
   ]
  },
  {
   "cell_type": "code",
   "execution_count": 34,
   "id": "8d4f50dc-f00d-4152-9e97-de165387150d",
   "metadata": {},
   "outputs": [],
   "source": [
    "vaccine2Log = [trace for trace in event_log if find2Events(\"Wait\",trace)]"
   ]
  },
  {
   "cell_type": "code",
   "execution_count": 35,
   "id": "b74b98fd-c9d0-4d32-aac9-ea8ca69751ca",
   "metadata": {},
   "outputs": [
    {
     "data": {
      "text/plain": [
       "{'attributes': {'concept:name': 'Case 34'}, 'events': [{'Case ID': 'Case 34', 'Activity': 'Assign seriousness', 'org:resource': 'Value 14', 'Complete Timestamp': Timestamp('2013-06-11 13:56:40+0000', tz='UTC'), 'seriousness': 'Value 1', 'customer': 'Value 29', 'product': 'Value 6', 'seriousness_2': 'Value 1', 'service_level': 'Value 2', 'service_type': 'Value 1', 'workgroup': 'Value 1'}, '..', {'Case ID': 'Case 34', 'Activity': 'Closed', 'org:resource': 'Value 3', 'Complete Timestamp': Timestamp('2013-07-20 10:18:42+0000', tz='UTC'), 'seriousness': 'Value 1', 'customer': 'Value 29', 'product': 'Value 6', 'seriousness_2': 'Value 1', 'service_level': 'Value 2', 'service_type': 'Value 1', 'workgroup': 'Value 1'}]}"
      ]
     },
     "execution_count": 35,
     "metadata": {},
     "output_type": "execute_result"
    }
   ],
   "source": [
    "vaccine2Log[0]"
   ]
  },
  {
   "cell_type": "code",
   "execution_count": 74,
   "id": "91ed58bf-70e9-43a1-a346-605b497f40ef",
   "metadata": {},
   "outputs": [],
   "source": [
    "dfg_secondVac = dfg_discovery.apply(vaccine2Log,parameters=param_keys)\n",
    "start_activities_doubleVac = start_activities_module.get_start_activities(vaccine2Log,param_keys)\n",
    "end_activities_doubleVac = end_activities_module.get_end_activities(vaccine2Log,param_keys)\n",
    "#pm4py.view_dfg(dfg_secondVac,start_activities_doubleVac,end_activities_doubleVac)"
   ]
  },
  {
   "cell_type": "code",
   "execution_count": null,
   "id": "d7aacb94-2618-4704-8d55-c23cdb9501ab",
   "metadata": {},
   "outputs": [],
   "source": []
  },
  {
   "cell_type": "code",
   "execution_count": 17,
   "id": "995fdc97-f146-4613-b78c-67cf5080d8bf",
   "metadata": {},
   "outputs": [
    {
     "name": "stdout",
     "output_type": "stream",
     "text": [
      "                                                  variant\n",
      "count                                                4579\n",
      "unique                                                226\n",
      "top     Assign seriousness,Take in charge ticket,Resol...\n",
      "freq                                                 2366\n"
     ]
    }
   ],
   "source": [
    "from pm4py.statistics.traces.pandas import case_statistics\n",
    "variants = case_statistics.get_variants_df(log_csv,\n",
    "                                          parameters={constants.PARAMETER_CONSTANT_CASEID_KEY: \"Case ID\",\n",
    "                                                      constants.PARAMETER_CONSTANT_ACTIVITY_KEY: \"Activity\"})\n",
    "variants.describe(include='all')\n",
    "\n",
    "stats = variants.describe(include='all')\n",
    "print (stats)\n",
    "\n",
    "\n"
   ]
  },
  {
   "cell_type": "code",
   "execution_count": 38,
   "id": "95993547-a1e6-4dbf-8d3c-6722a99577f2",
   "metadata": {},
   "outputs": [],
   "source": [
    "from pm4py.statistics.traces.pandas import case_statistics\n",
    "variants_count = case_statistics.get_variant_statistics(log_csv,\n",
    "                                          parameters={constants.PARAMETER_CONSTANT_CASEID_KEY: \"Case ID\",\n",
    "                                                      constants.PARAMETER_CONSTANT_ACTIVITY_KEY: \"Activity\",\n",
    "                                                      constants.PARAMETER_CONSTANT_TIMESTAMP_KEY: \"Complete Timestamp\"})\n",
    "variants_count = sorted(variants_count, key=lambda x: x['Case ID'], reverse=True)\n",
    "#important\n"
   ]
  },
  {
   "cell_type": "code",
   "execution_count": 36,
   "id": "2c89a843-1523-4088-b408-ea1dab2ff41c",
   "metadata": {},
   "outputs": [
    {
     "data": {
      "text/plain": [
       "[{'attributes': {'concept:name': 'Case 1'}, 'events': [{'Case ID': 'Case 1', 'Activity': 'Assign seriousness', 'org:resource': 'Value 1', 'Complete Timestamp': Timestamp('2012-10-09 14:50:17+0000', tz='UTC'), 'seriousness': 'Value 1', 'customer': 'Value 1', 'product': 'Value 1', 'seriousness_2': 'Value 1', 'service_level': 'Value 1', 'service_type': 'Value 1', 'workgroup': 'Value 1'}, '..', {'Case ID': 'Case 1', 'Activity': 'Closed', 'org:resource': 'Value 3', 'Complete Timestamp': Timestamp('2012-11-09 12:54:39+0000', tz='UTC'), 'seriousness': 'Value 1', 'customer': 'Value 1', 'product': 'Value 1', 'seriousness_2': 'Value 1', 'service_level': 'Value 2', 'service_type': 'Value 1', 'workgroup': 'Value 1'}]}, '....', {'attributes': {'concept:name': 'Case 4568'}, 'events': [{'Case ID': 'Case 4568', 'Activity': 'Assign seriousness', 'org:resource': 'Value 1', 'Complete Timestamp': Timestamp('2011-09-16 09:12:06+0000', tz='UTC'), 'seriousness': 'Value 1', 'customer': 'Value 5', 'product': 'Value 1', 'seriousness_2': 'Value 1', 'service_level': 'Value 3', 'service_type': 'Value 1', 'workgroup': 'Value 1'}, '..', {'Case ID': 'Case 4568', 'Activity': 'Closed', 'org:resource': 'Value 5', 'Complete Timestamp': Timestamp('2011-10-26 09:20:30+0000', tz='UTC'), 'seriousness': 'Value 1', 'customer': 'Value 5', 'product': 'Value 1', 'seriousness_2': 'Value 1', 'service_level': 'Value 3', 'service_type': 'Value 1', 'workgroup': 'Value 1'}]}]"
      ]
     },
     "execution_count": 36,
     "metadata": {},
     "output_type": "execute_result"
    }
   ],
   "source": [
    "\n",
    "filtered_df2 = variants_filter.apply(event_log, variants,\n",
    "                                          parameters={\"positive\": False, constants.PARAMETER_CONSTANT_CASEID_KEY: \"Case ID\",\n",
    "                                                      constants.PARAMETER_CONSTANT_ACTIVITY_KEY: \"Activity\"})\n",
    "filtered_df2"
   ]
  },
  {
   "cell_type": "code",
   "execution_count": 37,
   "id": "22f769bb-48b0-4d5f-a3cb-d5162a15ed87",
   "metadata": {},
   "outputs": [
    {
     "name": "stdout",
     "output_type": "stream",
     "text": [
      "count cases: 21342\n"
     ]
    }
   ],
   "source": [
    "from pandas import DataFrame\n",
    "\n",
    "\n",
    "\n",
    "df = DataFrame(log_csv, columns= ['Case ID', 'Activity','Complete Timestamp'])\n",
    "\n",
    "\n",
    "count1 = df['Case ID'].count()\n",
    "print('count cases: ' + str(count1))\n",
    "\n"
   ]
  },
  {
   "cell_type": "code",
   "execution_count": 39,
   "id": "855253f5-4f03-407e-8228-fd31d4c3f522",
   "metadata": {},
   "outputs": [
    {
     "name": "stdout",
     "output_type": "stream",
     "text": [
      "count cases: 21342\n",
      "                                                     variant\n",
      "Case ID                                                     \n",
      "Case 1     Assign seriousness,Take in charge ticket,Take ...\n",
      "Case 10    Assign seriousness,Take in charge ticket,Resol...\n",
      "Case 100   Assign seriousness,Take in charge ticket,Requi...\n",
      "Case 1000  Assign seriousness,Assign seriousness,Take in ...\n",
      "Case 1001  Assign seriousness,Take in charge ticket,Resol...\n",
      "...                                                      ...\n",
      "Case 995   Assign seriousness,Take in charge ticket,Wait,...\n",
      "Case 996   Assign seriousness,Take in charge ticket,Resol...\n",
      "Case 997   Assign seriousness,Take in charge ticket,Resol...\n",
      "Case 998   Assign seriousness,Take in charge ticket,Wait,...\n",
      "Case 999   Assign seriousness,Take in charge ticket,Resol...\n",
      "\n",
      "[4579 rows x 1 columns]\n"
     ]
    }
   ],
   "source": [
    "variants = case_statistics.get_variants_df(log_csv,\n",
    "                                          parameters={constants.PARAMETER_CONSTANT_CASEID_KEY: \"Case ID\",\n",
    "                                                      constants.PARAMETER_CONSTANT_ACTIVITY_KEY: \"Activity\"})\n",
    "count1 = df['Case ID'].count()\n",
    "print('count cases: ' + str(count1))\n",
    "print(variants)"
   ]
  },
  {
   "cell_type": "code",
   "execution_count": 133,
   "id": "67c248c7-942a-4f3b-91de-d34cadb39ab1",
   "metadata": {},
   "outputs": [
    {
     "data": {
      "text/plain": [
       "[{'attributes': {'concept:name': 'Case 1'}, 'events': [{'Case ID': 'Case 1', 'Activity': 'Assign seriousness', 'org:resource': 'Value 1', 'Complete Timestamp': Timestamp('2012-10-09 14:50:17+0000', tz='UTC'), 'seriousness': 'Value 1', 'customer': 'Value 1', 'product': 'Value 1', 'seriousness_2': 'Value 1', 'service_level': 'Value 1', 'service_type': 'Value 1', 'workgroup': 'Value 1'}, '..', {'Case ID': 'Case 1', 'Activity': 'Take in charge ticket', 'org:resource': 'Value 2', 'Complete Timestamp': Timestamp('2012-10-12 15:02:56+0000', tz='UTC'), 'seriousness': 'Value 1', 'customer': 'Value 1', 'product': 'Value 1', 'seriousness_2': 'Value 1', 'service_level': 'Value 2', 'service_type': 'Value 1', 'workgroup': 'Value 1'}]}, '....', {'attributes': {'concept:name': 'Case 4370'}, 'events': [{'Case ID': 'Case 4370', 'Activity': 'Insert ticket', 'org:resource': 'Value 1', 'Complete Timestamp': Timestamp('2013-01-04 09:55:16+0000', tz='UTC'), 'seriousness': 'Value 1', 'customer': 'Value 396', 'product': 'Value 16', 'seriousness_2': 'Value 3', 'service_level': 'Value 2', 'service_type': 'Value 1', 'workgroup': 'Value 1'}, '..', {'Case ID': 'Case 4370', 'Activity': 'Wait', 'org:resource': 'Value 2', 'Complete Timestamp': Timestamp('2013-02-07 15:15:03+0000', tz='UTC'), 'seriousness': 'Value 1', 'customer': 'Value 396', 'product': 'Value 16', 'seriousness_2': 'Value 2', 'service_level': 'Value 2', 'service_type': 'Value 1', 'workgroup': 'Value 1'}]}]"
      ]
     },
     "execution_count": 133,
     "metadata": {},
     "output_type": "execute_result"
    }
   ],
   "source": [
    "\n",
    "\n",
    "import pandas as pd\n",
    "from pm4py.objects.log.util import dataframe_utils\n",
    "from pm4py.objects.conversion.log import converter as log_converter\n",
    "\n",
    "log_csv = pd.read_csv('../eventlogs/ItalianHelpdeskFinal.csv', sep=',')\n",
    "log_csv = dataframe_utils.convert_timestamp_columns_in_df(log_csv)\n",
    "\n",
    "\n",
    "param_keys={constants.PARAMETER_CONSTANT_CASEID_KEY: 'Case ID', \n",
    "    constants.PARAMETER_CONSTANT_ACTIVITY_KEY: 'Activity', \n",
    "            constants.PARAMETER_CONSTANT_TIMESTAMP_KEY: \"Complete Timestamp\"\n",
    "           }\n",
    "event_log = log_converter.apply(log_csv,parameters=param_keys)\n",
    "\n",
    "\n",
    "\n",
    "log_csv = log_csv.sort_values('Activity')\n",
    "event_log = log_converter.apply(log_csv,parameters=param_keys)\n",
    "\n",
    "event_log\n",
    "\n",
    "\n",
    "\n",
    "from pm4py.statistics.traces.pandas import case_statistics\n",
    "\n"
   ]
  },
  {
   "cell_type": "code",
   "execution_count": 181,
   "id": "aec8ec1e-593d-4eb9-b196-e17143446aaa",
   "metadata": {},
   "outputs": [
    {
     "data": {
      "text/plain": [
       "{'Case ID': 'Case 1', 'Activity': 'Resolve ticket', 'org:resource': 'Value 1', 'Complete Timestamp': '2012/10/25 11:54:26.000', 'seriousness': 'Value 1', 'customer': 'Value 1', 'product': 'Value 1', 'seriousness_2': 'Value 1', 'service_level': 'Value 2', 'service_type': 'Value 1', 'workgroup': 'Value 1'}"
      ]
     },
     "execution_count": 181,
     "metadata": {},
     "output_type": "execute_result"
    }
   ],
   "source": [
    "\n",
    "log_csv = pd.read_csv('../eventlogs/ItalianHelpdeskFinal.csv', sep=',')\n",
    "#log_csv.rename(columns={'clientID': 'case:clientID'}, inplace=True)\n",
    "event_log = log_converter.apply(log_csv, parameters=param_keys, variant=log_converter.Variants.TO_EVENT_LOG)\n",
    "event_log[0][3]"
   ]
  },
  {
   "cell_type": "code",
   "execution_count": 180,
   "id": "53bf138d-1991-4509-b122-8e9c6f03890a",
   "metadata": {},
   "outputs": [
    {
     "ename": "KeyError",
     "evalue": "'concept:name'",
     "output_type": "error",
     "traceback": [
      "\u001b[1;31m---------------------------------------------------------------------------\u001b[0m",
      "\u001b[1;31mKeyError\u001b[0m                                  Traceback (most recent call last)",
      "\u001b[1;32m<ipython-input-180-da5f5090c6af>\u001b[0m in \u001b[0;36m<module>\u001b[1;34m\u001b[0m\n\u001b[0;32m      1\u001b[0m \u001b[1;32mfrom\u001b[0m \u001b[0mpm4py\u001b[0m\u001b[1;33m.\u001b[0m\u001b[0malgo\u001b[0m\u001b[1;33m.\u001b[0m\u001b[0mfiltering\u001b[0m\u001b[1;33m.\u001b[0m\u001b[0mlog\u001b[0m\u001b[1;33m.\u001b[0m\u001b[0mvariants\u001b[0m \u001b[1;32mimport\u001b[0m \u001b[0mvariants_filter\u001b[0m\u001b[1;33m\u001b[0m\u001b[1;33m\u001b[0m\u001b[0m\n\u001b[0;32m      2\u001b[0m \u001b[1;33m\u001b[0m\u001b[0m\n\u001b[1;32m----> 3\u001b[1;33m \u001b[0mfiltered_log\u001b[0m \u001b[1;33m=\u001b[0m \u001b[0mvariants_filter\u001b[0m\u001b[1;33m.\u001b[0m\u001b[0mfilter_log_variants_percentage\u001b[0m\u001b[1;33m(\u001b[0m\u001b[0mevent_log\u001b[0m\u001b[1;33m,\u001b[0m \u001b[0mpercentage\u001b[0m\u001b[1;33m=\u001b[0m\u001b[1;36m0.5\u001b[0m\u001b[1;33m)\u001b[0m\u001b[1;33m\u001b[0m\u001b[1;33m\u001b[0m\u001b[0m\n\u001b[0m",
      "\u001b[1;32m~\\anaconda3\\lib\\site-packages\\pm4py\\algo\\filtering\\log\\variants\\variants_filter.py\u001b[0m in \u001b[0;36mfilter_log_variants_percentage\u001b[1;34m(log, percentage, parameters)\u001b[0m\n\u001b[0;32m    142\u001b[0m         \u001b[0mparameters\u001b[0m \u001b[1;33m=\u001b[0m \u001b[1;33m{\u001b[0m\u001b[1;33m}\u001b[0m\u001b[1;33m\u001b[0m\u001b[1;33m\u001b[0m\u001b[0m\n\u001b[0;32m    143\u001b[0m \u001b[1;33m\u001b[0m\u001b[0m\n\u001b[1;32m--> 144\u001b[1;33m     \u001b[0mvariants\u001b[0m \u001b[1;33m=\u001b[0m \u001b[0mget_variants\u001b[0m\u001b[1;33m(\u001b[0m\u001b[0mlog\u001b[0m\u001b[1;33m,\u001b[0m \u001b[0mparameters\u001b[0m\u001b[1;33m=\u001b[0m\u001b[0mparameters\u001b[0m\u001b[1;33m)\u001b[0m\u001b[1;33m\u001b[0m\u001b[1;33m\u001b[0m\u001b[0m\n\u001b[0m\u001b[0;32m    145\u001b[0m \u001b[1;33m\u001b[0m\u001b[0m\n\u001b[0;32m    146\u001b[0m     \u001b[1;32mreturn\u001b[0m \u001b[0mfilter_variants_variants_percentage\u001b[0m\u001b[1;33m(\u001b[0m\u001b[0mlog\u001b[0m\u001b[1;33m,\u001b[0m \u001b[0mvariants\u001b[0m\u001b[1;33m,\u001b[0m \u001b[0mvariants_percentage\u001b[0m\u001b[1;33m=\u001b[0m\u001b[0mpercentage\u001b[0m\u001b[1;33m)\u001b[0m\u001b[1;33m\u001b[0m\u001b[1;33m\u001b[0m\u001b[0m\n",
      "\u001b[1;32m~\\anaconda3\\lib\\site-packages\\pm4py\\statistics\\variants\\log\\get.py\u001b[0m in \u001b[0;36mget_variants\u001b[1;34m(log, parameters)\u001b[0m\n\u001b[0;32m     79\u001b[0m     \u001b[1;32mis\u001b[0m \u001b[0mthe\u001b[0m \u001b[0mlist\u001b[0m \u001b[0mof\u001b[0m \u001b[0mtraces\u001b[0m \u001b[0mthat\u001b[0m \u001b[0mshare\u001b[0m \u001b[0mthe\u001b[0m \u001b[0mvariant\u001b[0m\u001b[1;33m\u001b[0m\u001b[1;33m\u001b[0m\u001b[0m\n\u001b[0;32m     80\u001b[0m \u001b[1;33m\u001b[0m\u001b[0m\n\u001b[1;32m---> 81\u001b[1;33m     \u001b[0mParameters\u001b[0m\u001b[1;33m\u001b[0m\u001b[1;33m\u001b[0m\u001b[0m\n\u001b[0m\u001b[0;32m     82\u001b[0m     \u001b[1;33m-\u001b[0m\u001b[1;33m-\u001b[0m\u001b[1;33m-\u001b[0m\u001b[1;33m-\u001b[0m\u001b[1;33m-\u001b[0m\u001b[1;33m-\u001b[0m\u001b[1;33m-\u001b[0m\u001b[1;33m-\u001b[0m\u001b[1;33m-\u001b[0m\u001b[1;33m-\u001b[0m\u001b[1;33m\u001b[0m\u001b[1;33m\u001b[0m\u001b[0m\n\u001b[0;32m     83\u001b[0m     \u001b[0mlog\u001b[0m\u001b[1;33m\u001b[0m\u001b[1;33m\u001b[0m\u001b[0m\n",
      "\u001b[1;32m~\\anaconda3\\lib\\site-packages\\pm4py\\statistics\\variants\\log\\get.py\u001b[0m in \u001b[0;36mget_variants_from_log_trace_idx\u001b[1;34m(log, parameters)\u001b[0m\n\u001b[0;32m    149\u001b[0m \u001b[1;32mdef\u001b[0m \u001b[0mget_variants_sorted_by_count\u001b[0m\u001b[1;33m(\u001b[0m\u001b[0mvariants\u001b[0m\u001b[1;33m)\u001b[0m\u001b[1;33m:\u001b[0m\u001b[1;33m\u001b[0m\u001b[1;33m\u001b[0m\u001b[0m\n\u001b[0;32m    150\u001b[0m     \"\"\"\n\u001b[1;32m--> 151\u001b[1;33m     \u001b[0mFrom\u001b[0m \u001b[0mthe\u001b[0m \u001b[0mdictionary\u001b[0m \u001b[0mof\u001b[0m \u001b[0mvariants\u001b[0m \u001b[0mreturns\u001b[0m \u001b[0man\u001b[0m \u001b[0mordered\u001b[0m \u001b[0mlist\u001b[0m \u001b[0mof\u001b[0m \u001b[0mvariants\u001b[0m\u001b[1;33m\u001b[0m\u001b[1;33m\u001b[0m\u001b[0m\n\u001b[0m\u001b[0;32m    152\u001b[0m     \u001b[0malong\u001b[0m \u001b[1;32mwith\u001b[0m \u001b[0mtheir\u001b[0m \u001b[0mcount\u001b[0m\u001b[1;33m\u001b[0m\u001b[1;33m\u001b[0m\u001b[0m\n\u001b[0;32m    153\u001b[0m \u001b[1;33m\u001b[0m\u001b[0m\n",
      "\u001b[1;32m~\\anaconda3\\lib\\site-packages\\pm4py\\util\\variants_util.py\u001b[0m in \u001b[0;36mget_variant_from_trace\u001b[1;34m(trace, parameters)\u001b[0m\n",
      "\u001b[1;32m~\\anaconda3\\lib\\site-packages\\pm4py\\util\\variants_util.py\u001b[0m in \u001b[0;36m<listcomp>\u001b[1;34m(.0)\u001b[0m\n",
      "\u001b[1;32m~\\anaconda3\\lib\\site-packages\\pm4py\\objects\\log\\obj.py\u001b[0m in \u001b[0;36m__getitem__\u001b[1;34m(self, key)\u001b[0m\n",
      "\u001b[1;31mKeyError\u001b[0m: 'concept:name'"
     ]
    }
   ],
   "source": [
    "from pm4py.algo.filtering.log.variants import variants_filter\n",
    "\n",
    "filtered_log = variants_filter.filter_log_variants_percentage(event_log, percentage=0.5)\n"
   ]
  },
  {
   "cell_type": "code",
   "execution_count": 41,
   "id": "6026e7b6-ea3d-4d17-81c1-f4160bb21b6f",
   "metadata": {},
   "outputs": [],
   "source": [
    "from pm4py.statistics.traces.pandas import case_statistics\n",
    "variants_count = case_statistics.get_variant_statistics(log_csv,\n",
    "                                          parameters={case_statistics.Parameters.CASE_ID_KEY: \"Case ID\",\n",
    "                                                      case_statistics.Parameters.ACTIVITY_KEY: \"Activity\",\n",
    "                                                      case_statistics.Parameters.TIMESTAMP_KEY: \"Complete Timestamp\"})\n",
    "variants_count = sorted(variants_count, key=lambda x: x['Case ID'], reverse=False)\n",
    "#variants_count\n",
    "\n"
   ]
  },
  {
   "cell_type": "code",
   "execution_count": null,
   "id": "1368ca2c-dd47-4df0-8276-c643119587f4",
   "metadata": {},
   "outputs": [],
   "source": []
  }
 ],
 "metadata": {
  "kernelspec": {
   "display_name": "Python 3",
   "language": "python",
   "name": "python3"
  },
  "language_info": {
   "codemirror_mode": {
    "name": "ipython",
    "version": 3
   },
   "file_extension": ".py",
   "mimetype": "text/x-python",
   "name": "python",
   "nbconvert_exporter": "python",
   "pygments_lexer": "ipython3",
   "version": "3.8.8"
  }
 },
 "nbformat": 4,
 "nbformat_minor": 5
}
